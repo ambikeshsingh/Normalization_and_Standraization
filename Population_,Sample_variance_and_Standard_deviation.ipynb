{
  "nbformat": 4,
  "nbformat_minor": 0,
  "metadata": {
    "colab": {
      "provenance": []
    },
    "kernelspec": {
      "name": "python3",
      "display_name": "Python 3"
    },
    "language_info": {
      "name": "python"
    }
  },
  "cells": [
    {
      "cell_type": "markdown",
      "source": [
        "**the population variance and standard deviation**"
      ],
      "metadata": {
        "id": "98hXpRGwgckq"
      }
    },
    {
      "cell_type": "code",
      "execution_count": 16,
      "metadata": {
        "id": "IEuL9S6ff7-V"
      },
      "outputs": [],
      "source": [
        "from math import sqrt"
      ]
    },
    {
      "cell_type": "code",
      "source": [
        "salaries = [40, 37, 38, 44, 46, 42, 43, 40, 36, 41]\n",
        "N=len(salaries)\n",
        "mean=sum(salaries)/N\n",
        "Variance=sum([(salary-mean)**2 for salary in salaries])/N\n",
        "std=sqrt(Variance)"
      ],
      "metadata": {
        "id": "HHul7uAAgfsq"
      },
      "execution_count": 17,
      "outputs": []
    },
    {
      "cell_type": "code",
      "source": [
        "print('population variance =',round(Variance,3))\n",
        "print('population standard Deviation =',round(std,3),end='\\n\\n')\n",
        "\n",
        "\n",
        "from statistics import pvariance,pstdev\n",
        "variance=pvariance(salaries)\n",
        "std=pstdev(salaries)\n",
        "print('population variance with statistics=',round(Variance,3))\n",
        "print('population standard Deviation with statistics=',round(std,3),end='\\n\\n')"
      ],
      "metadata": {
        "colab": {
          "base_uri": "https://localhost:8080/"
        },
        "id": "U39rEzUehZGE",
        "outputId": "c6c15838-dce1-4997-ae7b-6d33fba1d299"
      },
      "execution_count": 18,
      "outputs": [
        {
          "output_type": "stream",
          "name": "stdout",
          "text": [
            "population variance = 9.01\n",
            "population standard Deviation = 3.002\n",
            "\n",
            "population variance with statistics= 9.01\n",
            "population standard Deviation with statistics= 3.002\n",
            "\n"
          ]
        }
      ]
    },
    {
      "cell_type": "code",
      "source": [],
      "metadata": {
        "id": "CZfiyIpUDmlI"
      },
      "execution_count": 18,
      "outputs": []
    },
    {
      "cell_type": "markdown",
      "source": [
        "**sample variance and sample standard deviation**"
      ],
      "metadata": {
        "id": "iT9n_TpOFYx0"
      }
    },
    {
      "cell_type": "code",
      "source": [
        "from math import sqrt\n",
        "\n",
        "times = [3, 6, 7, 6, 8, 4, 7, 9, 8, 7, 6, 9]\n",
        "n=len(times)\n",
        "mean=sum(times)/n\n",
        "variance=sum([(time-mean)**2 for time in times])/(n-1)\n",
        "std=sqrt(variance)\n",
        "\n",
        "print('sample variance',round(variance,3))\n",
        "print('sample standard deviation', round(std,3),end='\\n\\n')\n",
        "\n",
        "\n",
        "from statistics import variance,stdev\n",
        "\n",
        "variance=variance(times)\n",
        "std=stdev(times)\n",
        "\n",
        "print('sample variance with statistics ',round(variance,3))\n",
        "print('sample standard deviation with statistics', round(std,3),end='\\n\\n')"
      ],
      "metadata": {
        "colab": {
          "base_uri": "https://localhost:8080/"
        },
        "id": "8ot2e6_4Ehkh",
        "outputId": "c6a28709-c1bc-450f-8ba9-ba8ab7d1c7ea"
      },
      "execution_count": 20,
      "outputs": [
        {
          "output_type": "stream",
          "name": "stdout",
          "text": [
            "sample variance 3.333\n",
            "sample standard deviation 1.826\n",
            "\n",
            "sample variance with statistics  3.333\n",
            "sample standard deviation with statistics 1.826\n",
            "\n"
          ]
        }
      ]
    },
    {
      "cell_type": "code",
      "source": [],
      "metadata": {
        "id": "uUq6XGrUGdee"
      },
      "execution_count": 19,
      "outputs": []
    }
  ]
}